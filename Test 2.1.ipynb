{
    "cells": [
        {
            "cell_type": "code",
            "execution_count": 4,
            "metadata": {},
            "outputs": [
                {
                    "data": {
                        "text/plain": "[Row(umur='38.0', gender='pria', pekerjaan='polisi', kota='Palangkaraya', gaji='13893914.385692531', is_keturunan='0.0', berat='63.61464401635632', tinggi='164.9646660431071', is_merokok='1', pendidikan='S1', is_bronkitis='0'),\n Row(umur='26.0', gender='wanita', pekerjaan='polisi', kota='Makassar', gaji='9293755.87625223', is_keturunan='0.0', berat='62.2760643689245', tinggi='152.8865600406809', is_merokok='1', pendidikan='SMA', is_bronkitis='0'),\n Row(umur='46.0', gender='wanita', pekerjaan='pns', kota='Bengkulu', gaji='13291707.434341203', is_keturunan='0.0', berat='62.42162654042725', tinggi='163.01178988764224', is_merokok='1', pendidikan='SMP', is_bronkitis='0'),\n Row(umur='34.0', gender='wanita', pekerjaan='dokter', kota='Banda Lampung', gaji='12051474.636142252', is_keturunan='0.0', berat='52.911596054305456', tinggi='162.54628434721192', is_merokok='0', pendidikan='S1', is_bronkitis='0'),\n Row(umur='17.0', gender='pria', pekerjaan='polisi', kota='Pekanbaru', gaji='10312775.99927943', is_keturunan='0.0', berat='51.82341362274132', tinggi='154.2971436966629', is_merokok='0', pendidikan='SMA', is_bronkitis='0')]"
                    },
                    "execution_count": 4,
                    "metadata": {},
                    "output_type": "execute_result"
                }
            ],
            "source": "# The code was removed by Watson Studio for sharing."
        },
        {
            "cell_type": "code",
            "execution_count": null,
            "metadata": {},
            "outputs": [],
            "source": ""
        }
    ],
    "metadata": {
        "kernelspec": {
            "display_name": "Python 3.9 with Spark",
            "language": "python3",
            "name": "python39"
        },
        "language_info": {
            "codemirror_mode": {
                "name": "ipython",
                "version": 3
            },
            "file_extension": ".py",
            "mimetype": "text/x-python",
            "name": "python",
            "nbconvert_exporter": "python",
            "pygments_lexer": "ipython3",
            "version": "3.9.13"
        }
    },
    "nbformat": 4,
    "nbformat_minor": 1
}